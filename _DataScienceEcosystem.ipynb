{
 "cells": [
  {
   "cell_type": "markdown",
   "id": "9bfec015-daf1-45db-bdb0-f254872bb81f",
   "metadata": {},
   "source": [
    "# Data Science Tools and Ecosystem"
   ]
  },
  {
   "cell_type": "markdown",
   "id": "8e516f4a-322a-4dc7-b87f-98c8c3c3bf35",
   "metadata": {},
   "source": [
    "In this notebook, Data Science Tools and Ecosystem are summarized."
   ]
  },
  {
   "cell_type": "markdown",
   "id": "6bab3c1a-06b3-41ef-8bfb-11f84aec7efc",
   "metadata": {},
   "source": [
    "### Some of the popular languages that Data Scientists use are:\n",
    "1. python Lanuage\n",
    "2. R Languge\n",
    "2. Julia languge"
   ]
  },
  {
   "cell_type": "markdown",
   "id": "72ba4ae6-565d-4c7e-bda7-9d45979f9aff",
   "metadata": {},
   "source": [
    "### Some of the commonly used libraries used by Data Scientists include:\n",
    "* pandas\n",
    "* numpy\n",
    "* ggplot2\n"
   ]
  },
  {
   "cell_type": "markdown",
   "id": "cb95b42b-9b9f-4954-a567-a4f787da2fa7",
   "metadata": {},
   "source": [
    "### Data Sceince Tools\n",
    "|programming languages|Data wrangling|data visualization|machine learing| big data|\n",
    "|---------------------|--------------|------------------|---------------|----------|\n",
    "|Python, R|Pandas, Numpy, dplyr| matplot, ggplot2, seaborn| sikit_learn, tensor flow|apache Hadoop, apache spark|\n",
    "\n",
    "\n"
   ]
  },
  {
   "cell_type": "markdown",
   "id": "37a1663a-0f1a-49c7-a90b-7e8f666d2da9",
   "metadata": {},
   "source": [
    "### Below are a few examples of evaluating arithmetic expressions in Python"
   ]
  },
  {
   "cell_type": "code",
   "execution_count": 14,
   "id": "9c9cba8c-6818-4a62-aebf-6e6f5d5ec2ca",
   "metadata": {},
   "outputs": [
    {
     "data": {
      "text/plain": [
       "3430"
      ]
     },
     "execution_count": 14,
     "metadata": {},
     "output_type": "execute_result"
    }
   ],
   "source": [
    "(333*10)+100"
   ]
  },
  {
   "cell_type": "code",
   "execution_count": 15,
   "id": "7268eaa4-5ed9-4801-be4b-b580f3b11bd1",
   "metadata": {},
   "outputs": [
    {
     "data": {
      "text/plain": [
       "258.0"
      ]
     },
     "execution_count": 15,
     "metadata": {},
     "output_type": "execute_result"
    }
   ],
   "source": [
    "123+(34*5)/2+50"
   ]
  },
  {
   "cell_type": "code",
   "execution_count": 12,
   "id": "98b1dd64-1949-4d62-92cb-ec5be866f603",
   "metadata": {},
   "outputs": [
    {
     "name": "stdout",
     "output_type": "stream",
     "text": [
      "sixty minutes is    1.0 hour\n"
     ]
    }
   ],
   "source": [
    "minute = 60;\n",
    "hour = minute;\n",
    "\n",
    "print (\"sixty minutes is  \",\"\", minute/60,\"hour\")"
   ]
  },
  {
   "cell_type": "markdown",
   "id": "97e1adb5-afc9-48f9-bac2-78ef3b20e943",
   "metadata": {},
   "source": [
    "### objectives\n",
    "* To practice Jupyter notebook\n",
    "* To submit garaded Asignments"
   ]
  },
  {
   "cell_type": "markdown",
   "id": "cf0a0496-cb9b-42bd-b850-a8f956acb556",
   "metadata": {},
   "source": [
    "### Author : \n",
    "Solomon Mehari"
   ]
  },
  {
   "cell_type": "code",
   "execution_count": null,
   "id": "221e686f-7f63-45ec-91e7-831daa72992c",
   "metadata": {},
   "outputs": [],
   "source": []
  }
 ],
 "metadata": {
  "kernelspec": {
   "display_name": "Python 3 (ipykernel)",
   "language": "python",
   "name": "python3"
  },
  "language_info": {
   "codemirror_mode": {
    "name": "ipython",
    "version": 3
   },
   "file_extension": ".py",
   "mimetype": "text/x-python",
   "name": "python",
   "nbconvert_exporter": "python",
   "pygments_lexer": "ipython3",
   "version": "3.11.4"
  }
 },
 "nbformat": 4,
 "nbformat_minor": 5
}
