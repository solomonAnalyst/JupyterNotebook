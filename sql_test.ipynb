{
 "cells": [
  {
   "cell_type": "code",
   "execution_count": 1,
   "id": "765b1bb6-5571-44cf-822b-3dbbeb768b77",
   "metadata": {},
   "outputs": [],
   "source": [
    "import sqlite3\n",
    "\n",
    "# Create a connection to an in-memory database\n",
    "conn = sqlite3.connect(':memory:')  # You can also use a file-based DB by passing a file path\n",
    "\n",
    "# Create a cursor object to execute SQL commands\n",
    "cursor = conn.cursor()\n"
   ]
  },
  {
   "cell_type": "code",
   "execution_count": 2,
   "id": "f0e05c72-3165-4fbf-9d9b-f09725dbc03c",
   "metadata": {},
   "outputs": [],
   "source": [
    "# Create a table\n",
    "cursor.execute('''CREATE TABLE employees (\n",
    "                    id INTEGER PRIMARY KEY AUTOINCREMENT,\n",
    "                    name TEXT,\n",
    "                    position TEXT,\n",
    "                    salary REAL\n",
    "                )''')\n",
    "\n",
    "# Commit the changes\n",
    "conn.commit()\n"
   ]
  },
  {
   "cell_type": "code",
   "execution_count": 3,
   "id": "3d402f5b-31b6-4d27-b8f3-7be13cfc4076",
   "metadata": {},
   "outputs": [],
   "source": [
    "# Insert data into the table\n",
    "cursor.execute(\"INSERT INTO employees (name, position, salary) VALUES ('Alice', 'Manager', 85000)\")\n",
    "cursor.execute(\"INSERT INTO employees (name, position, salary) VALUES ('Bob', 'Developer', 70000)\")\n",
    "cursor.execute(\"INSERT INTO employees (name, position, salary) VALUES ('Charlie', 'Designer', 60000)\")\n",
    "\n",
    "# Commit the changes\n",
    "conn.commit()\n"
   ]
  },
  {
   "cell_type": "code",
   "execution_count": 4,
   "id": "e255bb2b-d9c7-4571-ad9c-e5c710c418d4",
   "metadata": {},
   "outputs": [
    {
     "name": "stdout",
     "output_type": "stream",
     "text": [
      "(1, 'Alice', 'Manager', 85000.0)\n",
      "(2, 'Bob', 'Developer', 70000.0)\n",
      "(3, 'Charlie', 'Designer', 60000.0)\n"
     ]
    }
   ],
   "source": [
    "# Fetch all rows from the employees table\n",
    "cursor.execute(\"SELECT * FROM employees\")\n",
    "rows = cursor.fetchall()\n",
    "\n",
    "# Display the data\n",
    "for row in rows:\n",
    "    print(row)\n"
   ]
  },
  {
   "cell_type": "code",
   "execution_count": 5,
   "id": "f88b80d7-87b5-4d0d-a9bb-61775c2dff1e",
   "metadata": {},
   "outputs": [
    {
     "name": "stdout",
     "output_type": "stream",
     "text": [
      "(2, 'Bob', 'Developer', 75000.0)\n"
     ]
    }
   ],
   "source": [
    "# Update Bob's salary\n",
    "cursor.execute(\"UPDATE employees SET salary = 75000 WHERE name = 'Bob'\")\n",
    "conn.commit()\n",
    "\n",
    "# Verify the update\n",
    "cursor.execute(\"SELECT * FROM employees WHERE name = 'Bob'\")\n",
    "print(cursor.fetchone())\n"
   ]
  },
  {
   "cell_type": "code",
   "execution_count": null,
   "id": "d753371b-77ad-44b6-b237-9946f11ddcd6",
   "metadata": {},
   "outputs": [],
   "source": []
  }
 ],
 "metadata": {
  "kernelspec": {
   "display_name": "Python 3 (ipykernel)",
   "language": "python",
   "name": "python3"
  },
  "language_info": {
   "codemirror_mode": {
    "name": "ipython",
    "version": 3
   },
   "file_extension": ".py",
   "mimetype": "text/x-python",
   "name": "python",
   "nbconvert_exporter": "python",
   "pygments_lexer": "ipython3",
   "version": "3.11.4"
  }
 },
 "nbformat": 4,
 "nbformat_minor": 5
}
